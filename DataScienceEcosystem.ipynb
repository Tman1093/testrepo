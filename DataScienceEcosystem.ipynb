{
  "metadata": {
    "language_info": {
      "codemirror_mode": {
        "name": "python",
        "version": 3
      },
      "file_extension": ".py",
      "mimetype": "text/x-python",
      "name": "python",
      "nbconvert_exporter": "python",
      "pygments_lexer": "ipython3",
      "version": "3.8"
    },
    "kernelspec": {
      "name": "python",
      "display_name": "Python (Pyodide)",
      "language": "python"
    }
  },
  "nbformat_minor": 4,
  "nbformat": 4,
  "cells": [
    {
      "cell_type": "markdown",
      "source": "# Data Science Tools and Ecosystem",
      "metadata": {}
    },
    {
      "cell_type": "markdown",
      "source": "### In this notebook, Data Science Tools and Ecosystem are summarized.",
      "metadata": {}
    },
    {
      "cell_type": "markdown",
      "source": "### **Objectives:**",
      "metadata": {}
    },
    {
      "cell_type": "markdown",
      "source": "- Create markdown cell \n- List popular languages for Data Science\n- List the commonly used libraries for Data Science\n- Create a table of the open-source tools development environment\n- Create a code cell to convert minutes to hours",
      "metadata": {}
    },
    {
      "cell_type": "markdown",
      "source": "##### Some of the **popular languages** that Data Scientists use are:",
      "metadata": {}
    },
    {
      "cell_type": "markdown",
      "source": "1. Python\n2. R\n3. SQL\n4. Scala \n5. Java\n6. C++\n7. Julia\n8. Java Script\n9. PHP\n10. GO\n11. Ruby\n12. Visual Basic",
      "metadata": {}
    },
    {
      "cell_type": "markdown",
      "source": "##### Some of the commonly used **libraries** used by Data Scientists include:",
      "metadata": {}
    },
    {
      "cell_type": "markdown",
      "source": "1. Pandas\n2. NumPy\n3. MatPlot\n4. SeaBorn\n5. Scikit-learn\n6. Keras\n7. TensorFlow\n8. Pytorch\n9. Apache Spark\n10. Vegas\n11. BigDL\n12. ggplot2",
      "metadata": {}
    },
    {
      "cell_type": "markdown",
      "source": "##### Below is a __table__ that indicate three **development environment open source tools** used in data science:",
      "metadata": {}
    },
    {
      "cell_type": "markdown",
      "source": "|**Data Science Tools**|\n|----------------------|\n|Jupyter & Jupyter Lab|\n|R Studio|\n|Git & GitHub|",
      "metadata": {}
    },
    {
      "cell_type": "markdown",
      "source": "### Below are a few examples of evaluating arithmetic expressions in Python",
      "metadata": {}
    },
    {
      "cell_type": "code",
      "source": "# This a simple arithmetic expression to mutiply then add integers\n(3*4)+5",
      "metadata": {
        "trusted": true
      },
      "execution_count": 2,
      "outputs": [
        {
          "execution_count": 2,
          "output_type": "execute_result",
          "data": {
            "text/plain": "17"
          },
          "metadata": {}
        }
      ]
    },
    {
      "cell_type": "code",
      "source": "#This function takes the number of minutes like input and returns the decimal number of hours like output\ndef convert_to_hours(minutes):\n    hours = minutes / 60\n    return hours\nminutes = 200\nprint(convert_to_hours(minutes))",
      "metadata": {
        "trusted": true
      },
      "execution_count": 18,
      "outputs": [
        {
          "name": "stdout",
          "text": "3.3333333333333335\n",
          "output_type": "stream"
        }
      ]
    },
    {
      "cell_type": "code",
      "source": "# This function allows to calculate the integer hours and remaining minutes\ndef convert_to_hours_and_minutes(minutes):\n    # The operator \"//\" only returns the integer of the division\n    hours = minutes // 60  # whole number of hours\n    \n    #The operator \"%\" returns the rest of the division\n    remaining_minutes = minutes % 60  # remaining minutes\n    return hours, remaining_minutes  # return a tuple (hours, minutes)\n\nminutes = 200\nhours, remaining_minutes = convert_to_hours_and_minutes(minutes)\n\nprint(f\"{hours} hours e {remaining_minutes} minutes\")",
      "metadata": {
        "trusted": true
      },
      "execution_count": 20,
      "outputs": [
        {
          "name": "stdout",
          "text": "3 hours e 20 minutes\n",
          "output_type": "stream"
        }
      ]
    },
    {
      "cell_type": "markdown",
      "source": "## Author\nAntonio Infante",
      "metadata": {}
    },
    {
      "cell_type": "code",
      "source": "",
      "metadata": {},
      "execution_count": null,
      "outputs": []
    }
  ]
}